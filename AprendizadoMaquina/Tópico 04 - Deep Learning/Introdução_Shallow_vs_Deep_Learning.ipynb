{
  "cells": [
    {
      "cell_type": "markdown",
      "metadata": {
        "id": "view-in-github",
        "colab_type": "text"
      },
      "source": [
        "<a href=\"https://colab.research.google.com/github/andrehochuli/teaching/blob/main/AprendizadoMaquina/T%C3%B3pico%2004%20-%20Deep%20Learning/Introdu%C3%A7%C3%A3o_Shallow_vs_Deep_Learning.ipynb\" target=\"_parent\"><img src=\"https://colab.research.google.com/assets/colab-badge.svg\" alt=\"Open In Colab\"/></a>"
      ]
    },
    {
      "cell_type": "markdown",
      "source": [
        "# Introdução ao Deep Learning"
      ],
      "metadata": {
        "cell_id": "3681f013a83c4ebc981d773f1bce70d2",
        "formattedRanges": [],
        "deepnote_cell_type": "text-cell-h1",
        "id": "i7eXJhMIQ7-J"
      }
    },
    {
      "cell_type": "code",
      "source": [
        "import tensorflow as tf\n",
        "import cv2\n",
        "import numpy as np\n"
      ],
      "metadata": {
        "id": "0MPb8oKpeJkp"
      },
      "execution_count": null,
      "outputs": []
    },
    {
      "cell_type": "markdown",
      "source": [
        "## Benchmark Datasets"
      ],
      "metadata": {
        "id": "92_RNEbCcrDK"
      }
    },
    {
      "cell_type": "code",
      "source": [
        "from tensorflow.keras.datasets import cifar10,fashion_mnist, mnist\n",
        "\n",
        "#classes cifar\n",
        "cifar_names = [\"Avião\", \"Automóvel\", \"Pássaro\", \"Gato\", \"Cervo\",\n",
        "    \"Cachorro\", \"Sapo\", \"Cavalo\", \"Navio\", \"Caminhão\"]\n",
        "\n",
        "\n",
        "#classes fashion_mnist\n",
        "fashion_names = [\"T-shirt/top\",\"Trouser\",\"Pullover\",\"Dress\",\n",
        "\"Coat\", \"Sandal\", \"Shirt\", \"Sneaker\", \"Bag\", \"Ankle boot\" ]\n",
        "\n",
        "#classes mnist\n",
        "mnist_names = [\"0\",\"1\",\"2\",\"3\",\"4\",\"5\",\"6\",\"7\",\"8\",\"9\"]\n",
        "\n",
        "\n",
        "# Carregar o conjunto de dados\n",
        "(x_train, y_train), (x_test, y_test) = mnist.load_data()\n",
        "class_names = mnist_names\n",
        "x_test_ori = x_test\n",
        "# Exibir as dimensões dos conjuntos de treinamento e teste\n",
        "print(\"Dimensões do conjunto de treinamento:\")\n",
        "print(\"Imagens de treinamento:\", x_train.shape)\n",
        "print(\"Labels de treinamento:\", y_train.shape)\n",
        "print()\n",
        "print(\"Dimensões do conjunto de teste:\")\n",
        "print(\"Imagens de teste:\", x_test.shape)\n",
        "print(\"Labels de teste:\", y_test.shape)\n"
      ],
      "metadata": {
        "cell_id": "71fd977a786f4a108d5c513811611f2a",
        "source_hash": "d10d9287",
        "execution_start": 1684769368189,
        "execution_millis": 5696,
        "deepnote_to_be_reexecuted": false,
        "deepnote_cell_type": "code",
        "id": "ijZgdET2Q7-M"
      },
      "outputs": [],
      "execution_count": null
    },
    {
      "cell_type": "code",
      "source": [
        "import numpy as np\n",
        "import matplotlib.pyplot as plt\n",
        "\n",
        "# Função para plotar as imagens\n",
        "def plot_images(images, labels, cmap = 'color'):\n",
        "    # Configurar o grid para exibir as imagens\n",
        "    fig, axes = plt.subplots(3, 3, figsize=(6, 4))\n",
        "    axes = axes.flatten()\n",
        "\n",
        "    # Iterar sobre as imagens e os rótulos\n",
        "    for i, (image, label) in enumerate(zip(images, labels)):\n",
        "        # Exibir a imagem\n",
        "        names = class_names[int(label)]\n",
        "        axes[i].imshow(image, cmap = cmap)\n",
        "        axes[i].axis('off')\n",
        "        axes[i].set_title(f\"{names}\")\n",
        "\n",
        "    # Ajustar o espaçamento entre as subplots\n",
        "    plt.tight_layout()\n",
        "    plt.show()"
      ],
      "metadata": {
        "cell_id": "e2e858110d3f4ab1b3ddc2911e4c424b",
        "source_hash": "58cc1e7a",
        "execution_start": 1684769386502,
        "execution_millis": 12,
        "deepnote_to_be_reexecuted": false,
        "deepnote_cell_type": "code",
        "id": "UHgTb1GDQ7-P"
      },
      "outputs": [],
      "execution_count": null
    },
    {
      "cell_type": "code",
      "source": [
        "plot_images(x_train[:9],y_train[:9], cmap='gray')"
      ],
      "metadata": {
        "cell_id": "e2a18f3845fd439a960867ff25abfede",
        "source_hash": "c36927fa",
        "execution_start": 1684769389886,
        "execution_millis": 552,
        "deepnote_to_be_reexecuted": false,
        "deepnote_cell_type": "code",
        "id": "Vuy-i5wiQ7-P"
      },
      "outputs": [],
      "execution_count": null
    },
    {
      "cell_type": "markdown",
      "source": [
        "#Visualizando pixel a pixel\n",
        "\n",
        "Você consegue enxergar o pixel '3' ?"
      ],
      "metadata": {
        "id": "SEdLtYKWeSaz"
      }
    },
    {
      "cell_type": "code",
      "source": [
        "temp = x_train[7]\n",
        "\n",
        "#temp[temp > 0] = 1\n",
        "\n",
        "for i in range(temp.shape[1]):\n",
        "  for j in range(temp.shape[0]):\n",
        "    print(temp[i][j],end=' ')\n",
        "  print()"
      ],
      "metadata": {
        "cell_id": "20b0d99722db43c09250bda2588ddd7a",
        "source_hash": "eefd2785",
        "execution_start": 1684769416227,
        "execution_millis": 16,
        "deepnote_to_be_reexecuted": false,
        "deepnote_cell_type": "code",
        "id": "EWs4nQzTQ7-Q"
      },
      "outputs": [],
      "execution_count": null
    },
    {
      "cell_type": "markdown",
      "source": [
        "#Convolução\n",
        "\n",
        "Vamos aplicar um filtro para detectar bordas / texturas nas imagens"
      ],
      "metadata": {
        "id": "q1ElktKcej28"
      }
    },
    {
      "cell_type": "markdown",
      "source": [
        "![image.png](data:image/png;base64,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)"
      ],
      "metadata": {
        "id": "052MvsTm-LdL"
      }
    },
    {
      "cell_type": "code",
      "source": [
        "import numpy as np\n",
        "import matplotlib.pyplot as plt\n",
        "from skimage import io, color, filters\n",
        "from scipy.ndimage import convolve\n",
        "\n",
        "# Carregar a imagem\n",
        "\n",
        "image = x_train[7]\n",
        "\n",
        "if len(image.shape) > 2 and image.shape[2] != 1:\n",
        "# Converter a imagem para escala de cinza\n",
        "    image = color.rgb2gray(image)\n",
        "\n",
        "# Definir o kernel da convolução\n",
        "kernel = np.array([[-1, -1, -1],\n",
        "                   [-1 ,8, -1],\n",
        "                   [-1, -1, -1]])\n",
        "\n",
        "# Aplicar a convolução na imagem em escala de cinza\n",
        "convolved_image = convolve(image, kernel)\n",
        "\n",
        "\n",
        "# Exibir a imagem original e a convolução\n",
        "fig, axes = plt.subplots(nrows=1, ncols=2, figsize=(4, 3))\n",
        "axes[0].imshow(image,cmap='gray')\n",
        "axes[0].set_title(\"Imagem Original\")\n",
        "axes[0].axis('off')\n",
        "axes[1].imshow(convolved_image, cmap='gray')\n",
        "axes[1].set_title(\"Convolução\")\n",
        "axes[1].axis('off')\n",
        "plt.tight_layout()\n",
        "plt.show()\n"
      ],
      "metadata": {
        "cell_id": "2105d2a6839b4b2087d5649c368036bf",
        "source_hash": "14f6cb02",
        "execution_start": 1684768467112,
        "execution_millis": 21,
        "deepnote_to_be_reexecuted": false,
        "deepnote_cell_type": "code",
        "id": "OL5gQoMfQ7-R"
      },
      "outputs": [],
      "execution_count": null
    },
    {
      "cell_type": "markdown",
      "source": [
        "Aqui uma função para auxiliar a visualização das imagens resultantes"
      ],
      "metadata": {
        "id": "QUQxR7-Re6Xu"
      }
    },
    {
      "cell_type": "code",
      "source": [
        "#Função auxiliar para plotar imagens lado a lado a parti de uma lista\n",
        "def plot_sidebyside(img_list,titles,colormap=None,figsize=(12,6)):\n",
        "  n = len(img_list)\n",
        "  figure, axis = plt.subplots(1, n, figsize=figsize)\n",
        "\n",
        "  for i in range(n):\n",
        "    axis[i].imshow(img_list[i], cmap=colormap)\n",
        "    axis[i].set_title(titles[i])\n",
        "    axis[i].axis('off')\n",
        "  # Combine all the operations and display\n",
        "  plt.show()"
      ],
      "metadata": {
        "id": "dVuGwkWOeFUT"
      },
      "execution_count": null,
      "outputs": []
    },
    {
      "cell_type": "markdown",
      "source": [
        "O código abaixo utiliza a biblioteca opencv para extrair diferentes features"
      ],
      "metadata": {
        "id": "30xuCcY9ewoZ"
      }
    },
    {
      "cell_type": "code",
      "source": [
        "def extract_edges(data,algorithm='canny'):\n",
        "  features = []\n",
        "\n",
        "\n",
        "  for img in data:\n",
        "    #Evaluate smooth on fashion mnist data\n",
        "    #img = cv2.GaussianBlur(img,(5,5),0)\n",
        "    #_,img = cv2.threshold(img,127,255,cv2.THRESH_BINARY)\n",
        "\n",
        "    if algorithm=='canny':\n",
        "      edges = cv2.Canny(img,100,200)\n",
        "\n",
        "    elif algorithm=='sobel':\n",
        "                                      #V H\n",
        "      edges = cv2.Sobel(img,cv2.CV_64F,1,1)\n",
        "      #Back to UINT8\n",
        "      edges = cv2.convertScaleAbs(edges)\n",
        "\n",
        "    elif algorithm=='laplace':\n",
        "      edges = cv2.Laplacian(img,cv2.CV_64F)\n",
        "      #Back to UINT8\n",
        "      edges = cv2.convertScaleAbs(edges)\n",
        "\n",
        "    features.append(edges)\n",
        "\n",
        "  return np.array(features)\n",
        "\n",
        "train_feat_canny = extract_edges(x_train,'canny')\n",
        "test_feat_canny = extract_edges(x_test,'canny')\n",
        "\n",
        "train_feat_sobel = extract_edges(x_train,'sobel')\n",
        "test_feat_sobel = extract_edges(x_test,'sobel')\n",
        "\n",
        "train_feat_laplace = extract_edges(x_train,'laplace')\n",
        "test_feat_laplace = extract_edges(x_test,'laplace')\n",
        "\n",
        "for canny,sobel,laplace,img in zip(train_feat_canny[:10],train_feat_sobel[:10],train_feat_laplace[:10],x_train[:10]):\n",
        "  plot_sidebyside([img,canny,sobel,laplace],['img','canny','sobel','laplace'],'gray',figsize=(10,6))"
      ],
      "metadata": {
        "id": "sSQEKGL9W5RR"
      },
      "execution_count": null,
      "outputs": []
    },
    {
      "cell_type": "markdown",
      "source": [
        "#Classificadores rasos\n",
        "\n",
        "Vamos diminuir nosso dataset para apenas 10000 amostra para agilizar o processo de treinamento.\n",
        "\n",
        "Também vamos experimentar diferentes features.\n",
        "\n"
      ],
      "metadata": {
        "id": "0WgSlVkufHoj"
      }
    },
    {
      "cell_type": "code",
      "source": [
        "def performance_evaluation(y_test, predictions,samples,cls_names,info_message):\n",
        "\n",
        "  print(f\"Evaluation of \", info_message)\n",
        "  print(f\"{classification_report(y_test, predictions)}\\n\")\n",
        "  print(cls_names)\n",
        "  disp = ConfusionMatrixDisplay.from_predictions(y_test, predictions)\n",
        "  disp.figure_.suptitle(\"Confusion Matrix\")\n",
        "  plt.show()\n",
        "\n",
        "  id = np.random.randint(300)\n",
        "  idx1,idx2=id,id+10\n",
        "  diff = y_test - predictions\n",
        "  idxs = np.where(diff == 0)\n",
        "\n",
        "  _, axes = plt.subplots(nrows=1, ncols=(idx2-idx1), figsize=(20, 10))\n",
        "  for ax, image, lbl, prediction, in zip(axes, samples[idxs],y_test[idxs], predictions[idxs]):\n",
        "      ax.set_axis_off()\n",
        "      ax.imshow(image, cmap=plt.cm.gray_r, interpolation=\"nearest\")\n",
        "      ax.set_title(f\"Lbl: {lbl} Pred: {prediction}\")\n",
        "\n",
        "\n",
        "  idxs = np.where(diff != 0)\n",
        "  _, axes = plt.subplots(nrows=1, ncols=(idx2-idx1), figsize=(20, 10))\n",
        "  for ax, image, lbl, prediction, in zip(axes, samples[idxs],y_test[idxs], predictions[idxs]):\n",
        "      ax.set_axis_off()\n",
        "      ax.imshow(image, cmap=plt.cm.gray_r, interpolation=\"nearest\")\n",
        "      ax.set_title(f\"Lbl: {lbl} Pred: {prediction}\")\n",
        "\n",
        "  plt.show()"
      ],
      "metadata": {
        "id": "2rnE-k1eiC4j"
      },
      "execution_count": null,
      "outputs": []
    },
    {
      "cell_type": "code",
      "source": [
        "from sklearn.tree import DecisionTreeClassifier\n",
        "from sklearn.svm import SVC\n",
        "from sklearn.neural_network import MLPClassifier\n",
        "from sklearn.metrics import accuracy_score, classification_report, ConfusionMatrixDisplay\n",
        "\n",
        "x_train = train_feat_sobel[:10000]\n",
        "y_train = y_train[:10000]\n",
        "\n",
        "x_test = test_feat_sobel\n",
        "\n",
        "#(x_train, y_train), (x_test, y_test) = mnist.load_data()\n",
        "\n",
        "#Redimensiona de uma matriz MxN para um vetor M*N features\n",
        "x_train_flatten = x_train.reshape((x_train.shape[0],-1))\n",
        "x_test_flatten = x_test.reshape((x_test.shape[0],-1))\n",
        "print(x_train_flatten.shape)\n",
        "\n",
        "# Árvore de Decisão\n",
        "dt_classifier = DecisionTreeClassifier()\n",
        "dt_classifier.fit(x_train_flatten, y_train)\n",
        "y_pred = dt_classifier.predict(x_test_flatten)\n",
        "\n",
        "\n",
        "performance_evaluation(y_test,y_pred, x_test_ori, class_names,\"Decision Tree\")"
      ],
      "metadata": {
        "cell_id": "2e20e012c0c94109b8ce2394ded16481",
        "source_hash": "f0363e74",
        "execution_start": 1684767464717,
        "execution_millis": 24543,
        "deepnote_to_be_reexecuted": false,
        "deepnote_cell_type": "code",
        "id": "ziOTOU5nQ7-R"
      },
      "outputs": [],
      "execution_count": null
    },
    {
      "cell_type": "code",
      "source": [
        "mlp = MLPClassifier(hidden_layer_sizes=(100,100))\n",
        "mlp.fit(x_train_flatten, y_train)\n",
        "y_pred = mlp.predict(x_test_flatten)\n",
        "\n",
        "performance_evaluation(y_test,y_pred, x_test_ori, class_names,\"MLP\")\n",
        "\n"
      ],
      "metadata": {
        "cell_id": "50839573c6e34ec2956fd0add769da31",
        "source_hash": "a1e345cf",
        "deepnote_to_be_reexecuted": true,
        "deepnote_cell_type": "code",
        "id": "PYWAlxNuQ7-S"
      },
      "outputs": [],
      "execution_count": null
    },
    {
      "cell_type": "code",
      "source": [
        "import tensorflow as tf\n",
        "from tensorflow import keras\n",
        "\n",
        "#Re lendo a base\n",
        "(x_train, y_train), (x_test, y_test) = mnist.load_data()\n",
        "\n",
        "if len(x_train[0].shape) < 3:\n",
        "  x_train = np.expand_dims(x_train,axis=-1)\n",
        "\n",
        "model = tf.keras.models.Sequential([\n",
        "    tf.keras.layers.Conv2D(32, 3, padding='same', input_shape=x_train.shape[1:], activation='relu'),\n",
        "    tf.keras.layers.Conv2D(32, 3, activation='relu'),\n",
        "    tf.keras.layers.MaxPooling2D(),\n",
        "    tf.keras.layers.Dropout(0.25),\n",
        "\n",
        "    tf.keras.layers.Conv2D(64, 3, padding='same', activation='relu'),\n",
        "    tf.keras.layers.Conv2D(64, 3, activation='relu'),\n",
        "    tf.keras.layers.MaxPooling2D(),\n",
        "    tf.keras.layers.Dropout(0.25),\n",
        "\n",
        "    tf.keras.layers.Flatten(),\n",
        "    tf.keras.layers.Dense(512, activation='relu'),\n",
        "    tf.keras.layers.Dropout(0.5),\n",
        "    tf.keras.layers.Dense(10, activation='softmax'),\n",
        "])\n",
        "\n",
        "\n",
        "model.compile(optimizer='adam',\n",
        "              loss='sparse_categorical_crossentropy',\n",
        "              metrics=['accuracy'])\n",
        "\n",
        "\n",
        "model.summary()\n",
        "\n",
        "epochs=10\n",
        "\n",
        "history = model.fit(x_train, y_train, batch_size=32,\n",
        "                    epochs=10)"
      ],
      "metadata": {
        "id": "ceaIY9SAZZOv"
      },
      "execution_count": null,
      "outputs": []
    },
    {
      "cell_type": "code",
      "source": [
        "fig, ax = plt.subplots(2,1)\n",
        "ax[0].plot(history.history['loss'], color='b', label=\"Training Loss\")\n",
        "legend = ax[0].legend(loc='best', shadow=True)\n",
        "\n",
        "ax[1].plot(history.history['accuracy'], color='b', label=\"Training Accuracy\")\n",
        "legend = ax[1].legend(loc='best', shadow=True)"
      ],
      "metadata": {
        "id": "RM4mTjtZcDbc"
      },
      "execution_count": null,
      "outputs": []
    },
    {
      "cell_type": "code",
      "source": [
        "y_pred = model.predict(x_test)\n",
        "y_pred = np.argmax(y_pred,axis = 1)"
      ],
      "metadata": {
        "id": "jxyywYNRcIHY"
      },
      "execution_count": null,
      "outputs": []
    },
    {
      "cell_type": "code",
      "source": [
        "performance_evaluation(y_test,y_pred, x_test, class_names,\"CNN\")"
      ],
      "metadata": {
        "id": "nvRk0wtSiHxp"
      },
      "execution_count": null,
      "outputs": []
    }
  ],
  "nbformat": 4,
  "nbformat_minor": 0,
  "metadata": {
    "deepnote": {},
    "orig_nbformat": 2,
    "deepnote_notebook_id": "aaee91e61d054f2381a49312173cb0ab",
    "deepnote_execution_queue": [],
    "colab": {
      "provenance": [],
      "gpuType": "T4",
      "include_colab_link": true
    },
    "language_info": {
      "name": "python"
    },
    "kernelspec": {
      "name": "python3",
      "display_name": "Python 3"
    },
    "gpuClass": "standard",
    "accelerator": "GPU"
  }
}