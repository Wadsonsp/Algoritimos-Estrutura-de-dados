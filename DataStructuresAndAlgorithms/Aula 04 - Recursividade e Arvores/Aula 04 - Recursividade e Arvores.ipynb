{
  "cells": [
    {
      "cell_type": "markdown",
      "metadata": {
        "id": "view-in-github",
        "colab_type": "text"
      },
      "source": [
        "<a href=\"https://colab.research.google.com/github/andrehochuli/teaching/blob/main/DataStructuresAndAlgorithms/Aula%2004%20-%20Recursividade%20e%20Arvores/Aula%2004%20-%20Recursividade%20e%20Arvores.ipynb\" target=\"_parent\"><img src=\"https://colab.research.google.com/assets/colab-badge.svg\" alt=\"Open In Colab\"/></a>"
      ]
    },
    {
      "cell_type": "markdown",
      "source": [
        "### Recursividade"
      ],
      "metadata": {
        "tags": [],
        "cell_id": "0d2235c84d49441ba7b92ad5ec288c56",
        "is_collapsed": false,
        "formattedRanges": [],
        "deepnote_cell_type": "text-cell-h3",
        "id": "zpnQjXLR5f7v"
      }
    },
    {
      "cell_type": "markdown",
      "source": [
        "Funções recursivas são uma funções que invocam a si mesmas. São aplicadas em problemas nos quais a solução global depende da solução de instâncias menores do problema. [ f(x) = f(x-1) ]"
      ],
      "metadata": {
        "tags": [],
        "cell_id": "a0a6410f177f47f290852015e5ebea8f",
        "is_collapsed": false,
        "formattedRanges": [],
        "deepnote_cell_type": "text-cell-p",
        "id": "NyBg4o2G5f71"
      }
    },
    {
      "cell_type": "markdown",
      "source": [
        "A seguir veremos o que é uma função recursiva. Ao longo desta aula, também levantamos discussões entre versões iterativas e recursivas.Vamos agora implementar"
      ],
      "metadata": {
        "tags": [],
        "cell_id": "496cfdd7-8956-4a99-a0f0-facf8f65d41d",
        "is_collapsed": false,
        "formattedRanges": [],
        "deepnote_cell_type": "text-cell-p",
        "id": "n3h6lnV85f72"
      }
    },
    {
      "cell_type": "markdown",
      "source": [
        "Abaixo um exemplo de uma função recursiva que imprime numeros de I até 1 e vice versa."
      ],
      "metadata": {
        "tags": [],
        "cell_id": "b05e48d7-5f89-491a-9066-b2721057f5f0",
        "is_collapsed": false,
        "formattedRanges": [],
        "deepnote_cell_type": "text-cell-p",
        "id": "9M33fXI75f73"
      }
    },
    {
      "cell_type": "code",
      "source": [
        "def print_rec(i):\n",
        "\n",
        "    if (i<=0): #Stop Criteria\n",
        "        return\n",
        "\n",
        "    print(i)\n",
        "    print_rec(i-1) #increment/decrement\n",
        "\n",
        "\n",
        "print_rec(5)"
      ],
      "metadata": {
        "tags": [],
        "cell_id": "d7109889476a490cb83211bc7403710d",
        "source_hash": "8ccbbeb0",
        "output_cleared": false,
        "execution_start": 1661558951428,
        "execution_millis": 29707,
        "deepnote_to_be_reexecuted": false,
        "deepnote_cell_type": "code",
        "id": "EKDZ5ACz5f74"
      },
      "outputs": [],
      "execution_count": null
    },
    {
      "cell_type": "markdown",
      "source": [
        "Agora vamos alterar a função anterior para que a ordem seja: 0 1 2 3 4 5"
      ],
      "metadata": {
        "tags": [],
        "cell_id": "31b34dd994fb47d5b523d59a31e59626",
        "is_collapsed": false,
        "formattedRanges": [],
        "deepnote_cell_type": "text-cell-p",
        "id": "SPObCyuG5f77"
      }
    },
    {
      "cell_type": "code",
      "source": [
        "#Implemente aqui...."
      ],
      "metadata": {
        "tags": [],
        "cell_id": "432ebbdbe964460a8874b7e47c931af2",
        "source_hash": "bba35099",
        "execution_start": 1661558951472,
        "execution_millis": 29694,
        "deepnote_to_be_reexecuted": false,
        "deepnote_cell_type": "code",
        "id": "ofwugS4E5f78"
      },
      "outputs": [],
      "execution_count": null
    },
    {
      "cell_type": "markdown",
      "source": [
        "Agora que você entendeu os princípios basicos de recursão, implemente um código iterativo e outro recursivo para somar números de 0 até N. O desafio aqui é entender como empilhar as chamadas e o retorno das funções:"
      ],
      "metadata": {
        "tags": [],
        "cell_id": "70f9a03d0860498bbd51f0c3d8fd623a",
        "is_collapsed": false,
        "formattedRanges": [],
        "deepnote_cell_type": "text-cell-p",
        "id": "0UetSZ-L5f78"
      }
    },
    {
      "cell_type": "code",
      "source": [
        "############################\n",
        "def soma_iterativa(N):\n",
        "\n",
        "    return\n",
        "\n",
        "\n",
        "def soma_recursiva(N):\n",
        "\n",
        "    return\n",
        "\n",
        "############################\n",
        "N=4\n",
        "soma_i = soma_iterativa(N)\n",
        "soma_r = soma_recursiva(N)\n",
        "\n",
        "print(soma_i,soma_r)"
      ],
      "metadata": {
        "tags": [],
        "cell_id": "bd8b7c24e44b434a93a2c92488f334f7",
        "source_hash": "8a602fd0",
        "output_cleared": false,
        "execution_start": 1661558951480,
        "execution_millis": 29743,
        "deepnote_to_be_reexecuted": false,
        "deepnote_cell_type": "code",
        "id": "nkwT8_qi5f79"
      },
      "outputs": [],
      "execution_count": null
    },
    {
      "cell_type": "markdown",
      "source": [
        "A sequência de fibonacci é dada pelo seguinte padrão: 0 1 1 2 3 5 8 13 21 34......."
      ],
      "metadata": {
        "tags": [],
        "cell_id": "b7dca7001b0c4f39acd66b4ea6317622",
        "is_collapsed": false,
        "formattedRanges": [],
        "deepnote_cell_type": "text-cell-p",
        "id": "hbHt_78Y5f7-"
      }
    },
    {
      "cell_type": "markdown",
      "source": [
        "Implemente a sequência de fibonacci de maneira iterativa e recursiva. A função recebe o N-enesimo elemento, e retorna a sequência."
      ],
      "metadata": {
        "tags": [],
        "cell_id": "a9dfe1f2-e668-4e1a-aa6c-4cdf41973f45",
        "is_collapsed": false,
        "formattedRanges": [],
        "deepnote_cell_type": "text-cell-p",
        "id": "g1VfMP2T5f7-"
      }
    },
    {
      "cell_type": "markdown",
      "source": [
        "Exemplo: fibo(7) ==> 0 1 1 2 3 5 8"
      ],
      "metadata": {
        "tags": [],
        "cell_id": "7bdd3edc-09c9-4d5d-9d51-8507ce2e2880",
        "is_collapsed": false,
        "formattedRanges": [],
        "deepnote_cell_type": "text-cell-p",
        "id": "cpeBLdiI5f7-"
      }
    },
    {
      "cell_type": "markdown",
      "source": [],
      "metadata": {
        "tags": [],
        "cell_id": "4be9f964-a1c5-497e-b8e3-29221467ef92",
        "is_collapsed": false,
        "formattedRanges": [],
        "deepnote_cell_type": "text-cell-p",
        "id": "jv5ipZDZ5f7_"
      }
    },
    {
      "cell_type": "code",
      "source": [
        "############################\n",
        "def fibo_iterativa(N):\n",
        "\n",
        "\n",
        "    return\n",
        "\n",
        "def fibo_recursiva(N):\n",
        "\n",
        "\n",
        "    return\n",
        "\n",
        "\n",
        "############################\n",
        "N=7\n",
        "fibo_array = fibo_iterativa(N)\n",
        "print('Iter: ', fibo_array)\n",
        "\n",
        "fibo_array = fibo_recursiva(N)\n",
        "print('Rec_Array', fibo_array)"
      ],
      "metadata": {
        "tags": [],
        "cell_id": "ac8b4b185a524ab1aef41b2d3da860d1",
        "source_hash": "9dd374c0",
        "execution_start": 1661558951560,
        "execution_millis": 538,
        "deepnote_to_be_reexecuted": false,
        "deepnote_cell_type": "code",
        "id": "xbvORV0x5f7_"
      },
      "outputs": [],
      "execution_count": null
    },
    {
      "cell_type": "markdown",
      "source": [
        "Uma aplicação interessante é no caminhamento de listas ligadadas (linkedLists)."
      ],
      "metadata": {
        "tags": [],
        "cell_id": "9f32514745df47178f86698108d7c8f2",
        "is_collapsed": false,
        "formattedRanges": [],
        "deepnote_cell_type": "text-cell-p",
        "id": "2qPYPzts5f7_"
      }
    },
    {
      "cell_type": "markdown",
      "source": [
        "Retome os códigos das aulas passadas (listas, pilhas e filas), e implemente um caminhamento utilizando função recursiva."
      ],
      "metadata": {
        "tags": [],
        "cell_id": "70265e52-ef1d-479e-bfc5-8679a576da08",
        "is_collapsed": false,
        "formattedRanges": [],
        "deepnote_cell_type": "text-cell-p",
        "id": "IHJDZKjP5f7_"
      }
    },
    {
      "cell_type": "code",
      "source": [
        "#codifique aqui\n",
        "\n",
        "\n",
        "\n",
        "\n",
        "\n"
      ],
      "metadata": {
        "tags": [],
        "cell_id": "03424f97583246a7a688af328d16ffae",
        "source_hash": "b73cc06f",
        "execution_start": 1661558951561,
        "execution_millis": 29756,
        "deepnote_to_be_reexecuted": false,
        "deepnote_cell_type": "code",
        "id": "6PIh4lWo5f7_"
      },
      "outputs": [],
      "execution_count": null
    },
    {
      "cell_type": "markdown",
      "source": [
        "### Árvores Binárias"
      ],
      "metadata": {
        "tags": [],
        "cell_id": "4be1b85735c44a8697a17f6b49c87fae",
        "is_collapsed": false,
        "formattedRanges": [],
        "deepnote_cell_type": "text-cell-h3",
        "id": "9ArURqgF5f7_"
      }
    },
    {
      "cell_type": "markdown",
      "source": [
        "Agora que o professor explicou o que são árvores binárias, vamos colocar a mão na massa e implementá-las"
      ],
      "metadata": {
        "tags": [],
        "cell_id": "e37c5f92-60a7-4fd2-aae2-8ef2f229b03a",
        "is_collapsed": false,
        "formattedRanges": [],
        "deepnote_cell_type": "text-cell-p",
        "id": "aAtkXF1I5f7_"
      }
    },
    {
      "cell_type": "markdown",
      "source": [
        "![Picture title](https://github.com/andrehochuli/teaching/blob/main/DataStructuresAndAlgorithms/Aula%2004%20-%20Recursividade%20e%20Arvores/DeepNote%20Notebooks/image-20220826-110854.png?raw=1)"
      ],
      "metadata": {
        "tags": [],
        "cell_id": "7b96742d68694de4942125adc7e3f118",
        "deepnote_cell_type": "markdown",
        "id": "fffV_W5v5f8A"
      }
    },
    {
      "cell_type": "markdown",
      "source": [
        "A seguir vamos implementar a classe Node de uma árvore"
      ],
      "metadata": {
        "tags": [],
        "cell_id": "a5596eb0e06d4ea6ab8e4dbc38e5f920",
        "is_collapsed": false,
        "formattedRanges": [],
        "deepnote_cell_type": "text-cell-p",
        "id": "uoM53iQp5f8A"
      }
    },
    {
      "cell_type": "code",
      "source": [
        "#Codifique Aqui\n",
        "class Node:\n",
        "\n",
        "    #  <-[data]->\n",
        "    def __init__(self,data):\n",
        "        self.data = data\n",
        "        self.left = None\n",
        "        self.right = None\n"
      ],
      "metadata": {
        "tags": [],
        "cell_id": "a3e6616aa870458e91fca326ae89f7f4",
        "source_hash": "916dde7f",
        "execution_start": 1661558951607,
        "execution_millis": 495,
        "deepnote_to_be_reexecuted": false,
        "deepnote_cell_type": "code",
        "id": "S7w5YVV35f8A"
      },
      "outputs": [],
      "execution_count": null
    },
    {
      "cell_type": "markdown",
      "source": [
        "Agora, vamos implementar a inserção (push) em Àrvores"
      ],
      "metadata": {
        "tags": [],
        "cell_id": "e6ea6319185242b89aa42b03f5ff140b",
        "is_collapsed": false,
        "formattedRanges": [],
        "deepnote_cell_type": "text-cell-p",
        "id": "XxKuZa435f8A"
      }
    },
    {
      "cell_type": "markdown",
      "source": [
        "Define-se que :"
      ],
      "metadata": {
        "tags": [],
        "cell_id": "84a03f4c-4696-4bbe-88ba-5ec71a078355",
        "is_collapsed": false,
        "formattedRanges": [],
        "deepnote_cell_type": "text-cell-p",
        "id": "rtfMbABj5f8A"
      }
    },
    {
      "cell_type": "markdown",
      "source": [
        "- Dados inferiores ao nodo são inseridos a esquerda"
      ],
      "metadata": {
        "tags": [],
        "cell_id": "4e7cdb63-8a23-4eee-afe1-bbc1b27197d4",
        "is_collapsed": false,
        "formattedRanges": [
          {
            "type": "marks",
            "marks": {
              "bold": true
            },
            "toCodePoint": 17,
            "fromCodePoint": 6
          },
          {
            "type": "marks",
            "marks": {
              "bold": true
            },
            "toCodePoint": 49,
            "fromCodePoint": 41
          }
        ],
        "deepnote_cell_type": "text-cell-bullet",
        "id": "wYz1aj2O5f8B"
      }
    },
    {
      "cell_type": "markdown",
      "source": [
        "- Dados superiores ao nodo são inseridos a direita"
      ],
      "metadata": {
        "tags": [],
        "cell_id": "b4bf58da-01af-4c48-b56c-5f3dd37d6fb9",
        "is_collapsed": false,
        "formattedRanges": [
          {
            "type": "marks",
            "marks": {
              "bold": true
            },
            "toCodePoint": 16,
            "fromCodePoint": 6
          },
          {
            "type": "marks",
            "marks": {
              "bold": true
            },
            "toCodePoint": 48,
            "fromCodePoint": 41
          }
        ],
        "deepnote_cell_type": "text-cell-bullet",
        "id": "fV4c3wJe5f8B"
      }
    },
    {
      "cell_type": "code",
      "source": [
        "#Codifique Aqui\n"
      ],
      "metadata": {
        "id": "eZpud7hV8Ctm"
      },
      "execution_count": null,
      "outputs": []
    },
    {
      "cell_type": "markdown",
      "source": [
        "Como vimos, existem os caminhamentos pré, in e pós-ordem, vamos ver isso em código:"
      ],
      "metadata": {
        "tags": [],
        "cell_id": "73608b97c82f41a5b897fe11e162532e",
        "is_collapsed": false,
        "formattedRanges": [],
        "deepnote_cell_type": "text-cell-p",
        "id": "BnSV80jp5f8C"
      }
    },
    {
      "cell_type": "code",
      "source": [
        "#Codifique Aqui\n",
        "\n",
        "'''pre: visita, esq, dir\n",
        "10, 5, 4, 8, 15, 12, 17\n",
        "\n",
        "\n",
        "in: esq, visita, dir\n",
        "4, 5, 8, 10, 12, 15 , 17\n",
        "\n",
        "\n",
        "post: esq, dir, visita\n",
        "4, 8, 5, 12, 17, 15,10'''\n",
        "\n",
        "\n",
        "\n",
        "\n",
        "\n",
        "\n"
      ],
      "metadata": {
        "tags": [],
        "cell_id": "34ca8e9e41b1496b80f6302e0922978f",
        "source_hash": "f3925093",
        "execution_start": 1661558951608,
        "execution_millis": 29843,
        "deepnote_to_be_reexecuted": false,
        "deepnote_cell_type": "code",
        "id": "RGF5qKIi5f8B"
      },
      "outputs": [],
      "execution_count": null
    },
    {
      "cell_type": "markdown",
      "source": [
        "![Picture title](https://github.com/andrehochuli/teaching/blob/main/DataStructuresAndAlgorithms/Aula%2004%20-%20Recursividade%20e%20Arvores/DeepNote%20Notebooks/image-20220826-111322.png?raw=1)"
      ],
      "metadata": {
        "tags": [],
        "cell_id": "b1ea2b8e8d5949299f82458afd50877f",
        "deepnote_cell_type": "markdown",
        "id": "OuQIJXNf5f8C"
      }
    }
  ],
  "nbformat": 4,
  "nbformat_minor": 0,
  "metadata": {
    "deepnote": {},
    "orig_nbformat": 2,
    "deepnote_notebook_id": "503b33c913df414d8c63c47b827ded32",
    "deepnote_persisted_session": {
      "filename": "session_dump_503b33c913df414d8c63c47b827ded32.pkl",
      "createdAt": "2022-08-27T00:31:36.003Z"
    },
    "deepnote_execution_queue": [],
    "colab": {
      "provenance": [],
      "include_colab_link": true
    },
    "language_info": {
      "name": "python"
    },
    "kernelspec": {
      "name": "python3",
      "display_name": "Python 3"
    }
  }
}